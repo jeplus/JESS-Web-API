{
 "cells": [
  {
   "cell_type": "markdown",
   "metadata": {},
   "source": [
    "# JESS API Example\n",
    "This notebook shows a simple example of running simulations and retrieving results using the JESS API as part of the ENSIMS Web Service platform. Documentation of the service and the API are under development. This demo can be used as a get started guide.\n",
    "\n",
    "* [Get Connected](#first-bullet)\n",
    "* [Authentication](#auth-bullet)\n",
    "* [Upload & Run](#eplus-bullet)\n",
    "* [Zip, Upload & Run](#jeplus-bullet)\n",
    "* [Check Job Status](#status-bullet)\n",
    "* [Retrieve Result File List](#list-bullet)\n",
    "* [Retrieve a File](#retrieve-bullet)\n",
    "* [Download All Results](#download-bullet)\n",
    "* [View Results Online](#view-online-bullet)\n",
    "\n"
   ]
  },
  {
   "cell_type": "markdown",
   "metadata": {},
   "source": [
    "## Get Connected <a class=\"anchor\" id=\"first-bullet\"></a>\n",
    "\n",
    "Let's start with loading the necessary package and testing the connection to the server. The \"[Requests: HTTP for Humans](http://python-requests.org \"Go to Python Requests website\")\" is shown here, although other http packaages can be used too. \n",
    "\n",
    "After loading the Request package, we can run the Info command. Info is the simplest command and does not require authentication, so it works also if you copy and paste the URL to a browser, or [click here](https://api.ensims.com/jess_web/api/info \"Try Info command in browser\")."
   ]
  },
  {
   "cell_type": "code",
   "execution_count": 32,
   "metadata": {},
   "outputs": [
    {
     "data": {
      "text/plain": [
       "{'Title': 'JESS Web API',\n",
       " 'Description': 'JESS online simulation services API provided by ENSIMS Ltd.',\n",
       " 'Major': 1,\n",
       " 'Minor': 0,\n",
       " 'Revision': 0,\n",
       " 'Release': 'beta',\n",
       " 'Update': 1,\n",
       " 'Notice': '(C) 2020, Energy Simulation Solutions Ltd. All rights reserved.'}"
      ]
     },
     "execution_count": 32,
     "metadata": {},
     "output_type": "execute_result"
    }
   ],
   "source": [
    "# Use requests (see https://requests.readthedocs.io/en/master/)\n",
    "import requests\n",
    "\n",
    "# API endpoints\n",
    "ApiBase = 'https://api.ensims.com/'\n",
    "JessApi = ApiBase + \"jess_web/api/\"\n",
    "UserApi = ApiBase + 'users/api/'\n",
    "\n",
    "# Test the connection\n",
    "r = requests.get(JessApi + 'info')\n",
    "r.json()"
   ]
  },
  {
   "cell_type": "markdown",
   "metadata": {},
   "source": [
    "The request returns data in JSON format, which most of the JESS Web API uses. To see the data, use the 'json()' function. We can also access its fields like this:"
   ]
  },
  {
   "cell_type": "code",
   "execution_count": 2,
   "metadata": {},
   "outputs": [
    {
     "data": {
      "text/plain": [
       "'JESS Web API'"
      ]
     },
     "execution_count": 2,
     "metadata": {},
     "output_type": "execute_result"
    }
   ],
   "source": [
    "r.json()['Title']"
   ]
  },
  {
   "cell_type": "markdown",
   "metadata": {},
   "source": [
    "## Authentication <a class=\"anchor\" id=\"auth-bullet\"></a>\n",
    "\n",
    "First, we need to log on to the ENSIMS Web Service platform. If you haven't got an ENSIMS Web account, please go to [app.ensims.com](https://app.ensims.com/?user=register \"Go to app.ensims.com\") and register one. You must also request a new JESS account or link an existing one before you can perform the rest of the tasks on this page. See [this intro video](https://youtu.be/LQmx2BiET70 \"Youtube video link\") for the process.\n",
    "\n",
    "Here, we just log on using the existing credential and then store the cookies. The Log on command is a POST request with appropriate headers and the user credentials in JSON format as the data body. Here is how you do it. **Remember to replace the email field with your own.**"
   ]
  },
  {
   "cell_type": "code",
   "execution_count": 33,
   "metadata": {},
   "outputs": [
    {
     "name": "stdin",
     "output_type": "stream",
     "text": [
      "Password for demo1@jeplus.org:  ········\n"
     ]
    },
    {
     "data": {
      "text/plain": [
       "{'ok': True,\n",
       " 'status': 'Logged in successfully!',\n",
       " 'jwt': 'Session token in cookie',\n",
       " 'user': 'Yi',\n",
       " 'role': None,\n",
       " 'email': 'demo1@jeplus.org'}"
      ]
     },
     "execution_count": 33,
     "metadata": {},
     "output_type": "execute_result"
    }
   ],
   "source": [
    "# Get log in credential\n",
    "import getpass\n",
    "user_email = \"demo1@jeplus.org\" # <== Change this to your registered email\n",
    "password = getpass.getpass(\"Password for \" + user_email + \": \")\n",
    "\n",
    "# Set header and body of the POST request\n",
    "headers = {'Content-Type': 'application/json'}\n",
    "body = {\"email\": user_email, \"password\": password}\n",
    "\n",
    "# Send request\n",
    "r = requests.post(UserApi + 'auth', headers=headers, json=body)\n",
    "\n",
    "# Keep the cookies which contain the session token for secured requests\n",
    "cookies = r.cookies\n",
    "\n",
    "# Show data returned by JESS\n",
    "r.json()"
   ]
  },
  {
   "cell_type": "markdown",
   "metadata": {},
   "source": [
    "Now you are logged on and the session cookie is stored in the \"cookies\" variable."
   ]
  },
  {
   "cell_type": "markdown",
   "metadata": {},
   "source": [
    "## Upload & Run - EnergyPlus <a class=\"anchor\" id=\"eplus-bullet\"></a>\n",
    "\n",
    "The quickest way to run simulations is by using the \"upload and run\" command (POST job/). This involves wrapping all the information about the simulation job to run, including the necessary files, in multipart form data. Here is an example."
   ]
  },
  {
   "cell_type": "code",
   "execution_count": 34,
   "metadata": {},
   "outputs": [
    {
     "name": "stdout",
     "output_type": "stream",
     "text": [
      "The current working directory is C:\\dev\\python\\JESS-Web-API\n"
     ]
    },
    {
     "data": {
      "text/plain": [
       "{'ok': True, 'status': 'Job 385114 is created', 'data': 385114}"
      ]
     },
     "execution_count": 34,
     "metadata": {},
     "output_type": "execute_result"
    }
   ],
   "source": [
    "import os\n",
    "\n",
    "# detect the current working directory and print it\n",
    "path = os.getcwd()\n",
    "print (\"The current working directory is %s\" % path)\n",
    "\n",
    "# upload a file to a particular folder. Becareful that the file name fields and the model/weather fields must match!\n",
    "files = [\n",
    "    ('file', ('5ZoneAirCooled-v93.idf', open('job_example\\\\5ZoneAirCooled-v93.idf', 'rb'), 'text/plain')),\n",
    "    ('file', ('in.epw', open('job_example\\\\in.epw', 'rb'), 'text/plain')),\n",
    "    ('title', 'Python test case'),\n",
    "    ('desc', 'This is test submission made from the API example for Python'),\n",
    "    ('split', 'FALSE')\n",
    "]\n",
    "\n",
    "# POST with files\n",
    "r = requests.post(JessApi + 'job', files=files, cookies=cookies)\n",
    "\n",
    "# Get job_id. This id number will be needed for querying and retrieving the job data\n",
    "job_id = r.json()['data']\n",
    "\n",
    "# Show the returned status\n",
    "r.json()"
   ]
  },
  {
   "cell_type": "markdown",
   "metadata": {},
   "source": [
    "If job submission is successful, JESS returns an acknowledgement with the ok status set to True, and the job id in the 'data' field. Take a note of the **job id** as you will need to access the job status and the simulation results later."
   ]
  },
  {
   "cell_type": "markdown",
   "metadata": {},
   "source": [
    "## Zip, Upload & Run - jEPlus Project <a class=\"anchor\" id=\"jeplus-bullet\"></a>\n",
    "\n",
    "To upload more files, especially if the folder structure need to be maintained, it may be best to zip the files and folders before upload & run. This exmaple shows how to do it with a jEPlus project folder."
   ]
  },
  {
   "cell_type": "code",
   "execution_count": 38,
   "metadata": {},
   "outputs": [
    {
     "name": "stdout",
     "output_type": "stream",
     "text": [
      "The current working directory is C:\\dev\\python\\JESS-Web-API\n",
      "C:\\dev\\python\\JESS-Web-API\\files.zip is prepared and to be uploaded\n"
     ]
    },
    {
     "data": {
      "text/plain": [
       "{'ok': True, 'status': 'Job 385117 is created', 'data': 385117}"
      ]
     },
     "execution_count": 38,
     "metadata": {},
     "output_type": "execute_result"
    }
   ],
   "source": [
    "from shutil import make_archive\n",
    "\n",
    "# detect the current working directory and print it\n",
    "path = os.getcwd()\n",
    "print (\"The current working directory is %s\" % path)\n",
    "\n",
    "# zip all files and sub-folders in the jeplus_example folder into files.zip\n",
    "toUpload = make_archive('files', 'zip', root_dir=os.path.join(path, 'jeplus_example'))\n",
    "print (toUpload + \" is prepared and to be uploaded\")\n",
    "\n",
    "# upload the zip file and set the jEPlus project options\n",
    "files = [\n",
    "    ('file', ('files.zip', open(toUpload, 'rb'), 'application/zip')),\n",
    "    ('type', 'JEP'),      # Important - JEP for jeplus projects and EP for E+ models\n",
    "    ('title', 'jEPlus project example'),\n",
    "    ('desc', 'This is test submission made from the API example for Python'),\n",
    "    ('subset', 'LHS'),    # Or ('subset', 'LIST_FILE'), ('cases', 'jobs.txt')\n",
    "    ('cases', '10')\n",
    "]\n",
    "\n",
    "# POST with files\n",
    "r = requests.post(JessApi + 'job', files=files, cookies=cookies)\n",
    "\n",
    "# Get job_id. This id number will be needed for querying and retrieving the job data\n",
    "# job_id = r.json()['data']\n",
    "\n",
    "# Show the returned status\n",
    "r.json()\n",
    "\n"
   ]
  },
  {
   "cell_type": "markdown",
   "metadata": {},
   "source": [
    "## List Jobs <a class=\"anchor\" id=\"jobs-bullet\"></a>\n",
    "\n",
    "\n",
    "You can list the jobs available on the server using the following operation. Note the filter showing only the jobs that are submitted today and have finished simulation."
   ]
  },
  {
   "cell_type": "code",
   "execution_count": 39,
   "metadata": {},
   "outputs": [
    {
     "name": "stdout",
     "output_type": "stream",
     "text": [
      "Retrieve jobs list on 2021-07-06\n"
     ]
    },
    {
     "data": {
      "text/plain": [
       "{'ok': True,\n",
       " 'status': 'yiz0 jobs available',\n",
       " 'data': [{'job_Desc': 'This is test submission made from the API example for Python',\n",
       "   'job_SN': 385099,\n",
       "   'job_Subset': 'ALL',\n",
       "   'submissionSize': 1711719,\n",
       "   'job_Args': '',\n",
       "   'received': 1625569133430,\n",
       "   'njobs': 1,\n",
       "   'cputime': 6,\n",
       "   'storageSize': 15072020,\n",
       "   'resultSize': 0,\n",
       "   'job_Name': 'Python test case',\n",
       "   'progress': '1, 0, 0, 0, 0, 0, 1',\n",
       "   'accepted': None,\n",
       "   'retrieved': None,\n",
       "   'cancelled': None,\n",
       "   'simulated': 1625569157970,\n",
       "   'prepared': 1625569137515,\n",
       "   'collected': 1625569158028,\n",
       "   'id': 1189,\n",
       "   'status': 'FINISHED',\n",
       "   'username': 'yiz0',\n",
       "   'job_Type': 'EP_IDF',\n",
       "   'message': 'Job finished. Results collected into tables.'},\n",
       "  {'job_Desc': 'This is test submission made from the API example for Python',\n",
       "   'job_SN': 385114,\n",
       "   'job_Subset': 'ALL',\n",
       "   'submissionSize': 1711719,\n",
       "   'job_Args': '',\n",
       "   'received': 1625587116738,\n",
       "   'njobs': 1,\n",
       "   'cputime': 6,\n",
       "   'storageSize': 15072020,\n",
       "   'resultSize': 0,\n",
       "   'job_Name': 'Python test case',\n",
       "   'progress': '1, 0, 0, 0, 0, 0, 1',\n",
       "   'accepted': None,\n",
       "   'retrieved': None,\n",
       "   'cancelled': None,\n",
       "   'simulated': 1625587128126,\n",
       "   'prepared': 1625587117712,\n",
       "   'collected': 1625587128218,\n",
       "   'id': 1189,\n",
       "   'status': 'FINISHED',\n",
       "   'username': 'yiz0',\n",
       "   'job_Type': 'EP_IDF',\n",
       "   'message': 'Job finished. Results collected into tables.'},\n",
       "  {'job_Desc': 'This is test submission made from the API example for Python',\n",
       "   'job_SN': 385115,\n",
       "   'job_Subset': 'LHS_RANDOM',\n",
       "   'submissionSize': 5995053,\n",
       "   'job_Args': '',\n",
       "   'received': 1625587119899,\n",
       "   'njobs': 20,\n",
       "   'cputime': 28,\n",
       "   'storageSize': 46390207,\n",
       "   'resultSize': 0,\n",
       "   'job_Name': 'jEPlus project example',\n",
       "   'progress': '20, 0, 0, 0, 0, 0, 20',\n",
       "   'accepted': 1625587127775,\n",
       "   'retrieved': None,\n",
       "   'cancelled': None,\n",
       "   'simulated': 1625587143162,\n",
       "   'prepared': 1625587127854,\n",
       "   'collected': 1625587143425,\n",
       "   'id': 1189,\n",
       "   'status': 'FINISHED',\n",
       "   'username': 'yiz0',\n",
       "   'job_Type': 'JE_JEP',\n",
       "   'message': 'Job finished. Results collected into tables.'},\n",
       "  {'job_Desc': 'This is test submission made from the API example for Python',\n",
       "   'job_SN': 385117,\n",
       "   'job_Subset': 'LHS_RANDOM',\n",
       "   'submissionSize': 5995053,\n",
       "   'job_Args': '',\n",
       "   'received': 1625587195106,\n",
       "   'njobs': 10,\n",
       "   'cputime': 13,\n",
       "   'storageSize': 26195472,\n",
       "   'resultSize': 0,\n",
       "   'job_Name': 'jEPlus project example',\n",
       "   'progress': '10, 0, 0, 0, 0, 0, 10',\n",
       "   'accepted': 1625587197759,\n",
       "   'retrieved': None,\n",
       "   'cancelled': None,\n",
       "   'simulated': 1625587203144,\n",
       "   'prepared': 1625587197798,\n",
       "   'collected': 1625587203445,\n",
       "   'id': 1189,\n",
       "   'status': 'FINISHED',\n",
       "   'username': 'yiz0',\n",
       "   'job_Type': 'JE_JEP',\n",
       "   'message': 'Job finished. Results collected into tables.'}]}"
      ]
     },
     "execution_count": 39,
     "metadata": {},
     "output_type": "execute_result"
    }
   ],
   "source": [
    "# !! This part is not working !!\n",
    "from datetime import date\n",
    "\n",
    "today = date.today()\n",
    "\n",
    "# YYYY-mm-dd\n",
    "dstr = today.strftime(\"%Y-%m-%d\")\n",
    "print(\"Retrieve jobs list on \" + dstr)\n",
    "\n",
    "# GET the list of jobs fit the given criteria\n",
    "filter = {\"since\": dstr, \"till\": dstr, \"status\": \"FINISHED\"}\n",
    "\n",
    "r = requests.get(JessApi + 'jobs', headers=headers, json=filter, cookies=cookies)\n",
    "\n",
    "r.json()"
   ]
  },
  {
   "cell_type": "markdown",
   "metadata": {},
   "source": [
    "## Check Job Status <a class=\"anchor\" id=\"status-bullet\"></a>\n",
    "\n",
    "To check the status of a particular job, use the following operation:"
   ]
  },
  {
   "cell_type": "code",
   "execution_count": 5,
   "metadata": {},
   "outputs": [
    {
     "data": {
      "text/plain": [
       "{'ok': True,\n",
       " 'status': '385099 status available',\n",
       " 'data': {'progress': '1, 0, 0, 0, 0, 0, 1',\n",
       "  'completion_Time': 1625569158028,\n",
       "  'job_ID': 385099,\n",
       "  'cancel_Flag': False,\n",
       "  'last_Update': 1625569158038,\n",
       "  'status_Info': 'Job finished. Results collected into tables.',\n",
       "  'id': 385043,\n",
       "  'status': 'FINISHED'}}"
      ]
     },
     "execution_count": 5,
     "metadata": {},
     "output_type": "execute_result"
    }
   ],
   "source": [
    "# GET job status with job_id\n",
    "r = requests.get(JessApi + 'job/status/' + str(job_id), cookies=cookies)\n",
    "\n",
    "# Show the returned status\n",
    "r.json()"
   ]
  },
  {
   "cell_type": "markdown",
   "metadata": {},
   "source": [
    "## Retrieve Result File List <a class=\"anchor\" id=\"list-bullet\"></a>\n",
    "\n",
    "When simulation has finished, you can retrieve the list of result files using the following operation. The returned data are formated for rendering with JSTree, hence it may be too much to read."
   ]
  },
  {
   "cell_type": "code",
   "execution_count": 6,
   "metadata": {},
   "outputs": [
    {
     "data": {
      "text/plain": [
       "{'ok': True,\n",
       " 'status': '385099 status available',\n",
       " 'data': {'state': {'disabled': False, 'openned': False, 'selected': False},\n",
       "  'text': '385099 [*]',\n",
       "  'data': {'fullPath': '/', 'folder': True, 'lastModified': 0, 'size': 0},\n",
       "  'type': 'root',\n",
       "  'id': None,\n",
       "  'a_attr': {'title': '/ total size 0 B'},\n",
       "  'li_attr': {},\n",
       "  'children': [{'state': {'disabled': False,\n",
       "     'openned': False,\n",
       "     'selected': False},\n",
       "    'text': 'console.log (5.42 kB)',\n",
       "    'data': {'fullPath': '/console.log',\n",
       "     'folder': False,\n",
       "     'lastModified': 1625569146000,\n",
       "     'size': 5416},\n",
       "    'type': 'log',\n",
       "    'id': None,\n",
       "    'a_attr': {'title': '/console.log last modfied at 2021-07-06 10:59 UTC'},\n",
       "    'li_attr': {},\n",
       "    'children': []},\n",
       "   {'state': {'disabled': False, 'openned': False, 'selected': False},\n",
       "    'text': 'eplusout.bnd (62.31 kB)',\n",
       "    'data': {'fullPath': '/eplusout.bnd',\n",
       "     'folder': False,\n",
       "     'lastModified': 1625569146000,\n",
       "     'size': 62315},\n",
       "    'type': 'bnd',\n",
       "    'id': None,\n",
       "    'a_attr': {'title': '/eplusout.bnd last modfied at 2021-07-06 10:59 UTC'},\n",
       "    'li_attr': {},\n",
       "    'children': []},\n",
       "   {'state': {'disabled': False, 'openned': False, 'selected': False},\n",
       "    'text': 'eplusout.dxf (17.06 kB)',\n",
       "    'data': {'fullPath': '/eplusout.dxf',\n",
       "     'folder': False,\n",
       "     'lastModified': 1625569146000,\n",
       "     'size': 17064},\n",
       "    'type': 'dxf',\n",
       "    'id': None,\n",
       "    'a_attr': {'title': '/eplusout.dxf last modfied at 2021-07-06 10:59 UTC'},\n",
       "    'li_attr': {},\n",
       "    'children': []},\n",
       "   {'state': {'disabled': False, 'openned': False, 'selected': False},\n",
       "    'text': 'eplusout.eio (54.89 kB)',\n",
       "    'data': {'fullPath': '/eplusout.eio',\n",
       "     'folder': False,\n",
       "     'lastModified': 1625569146000,\n",
       "     'size': 54891},\n",
       "    'type': 'eio',\n",
       "    'id': None,\n",
       "    'a_attr': {'title': '/eplusout.eio last modfied at 2021-07-06 10:59 UTC'},\n",
       "    'li_attr': {},\n",
       "    'children': []},\n",
       "   {'state': {'disabled': False, 'openned': False, 'selected': False},\n",
       "    'text': 'eplusout.end (97 B)',\n",
       "    'data': {'fullPath': '/eplusout.end',\n",
       "     'folder': False,\n",
       "     'lastModified': 1625569146000,\n",
       "     'size': 97},\n",
       "    'type': 'end',\n",
       "    'id': None,\n",
       "    'a_attr': {'title': '/eplusout.end last modfied at 2021-07-06 10:59 UTC'},\n",
       "    'li_attr': {},\n",
       "    'children': []},\n",
       "   {'state': {'disabled': False, 'openned': False, 'selected': False},\n",
       "    'text': 'eplusout.err (1.51 kB)',\n",
       "    'data': {'fullPath': '/eplusout.err',\n",
       "     'folder': False,\n",
       "     'lastModified': 1625569146000,\n",
       "     'size': 1514},\n",
       "    'type': 'err',\n",
       "    'id': None,\n",
       "    'a_attr': {'title': '/eplusout.err last modfied at 2021-07-06 10:59 UTC'},\n",
       "    'li_attr': {},\n",
       "    'children': []},\n",
       "   {'state': {'disabled': False, 'openned': False, 'selected': False},\n",
       "    'text': 'eplusout.eso (10.76 MB)',\n",
       "    'data': {'fullPath': '/eplusout.eso',\n",
       "     'folder': False,\n",
       "     'lastModified': 1625569146000,\n",
       "     'size': 10757435},\n",
       "    'type': 'eso',\n",
       "    'id': None,\n",
       "    'a_attr': {'title': '/eplusout.eso last modfied at 2021-07-06 10:59 UTC'},\n",
       "    'li_attr': {},\n",
       "    'children': []},\n",
       "   {'state': {'disabled': False, 'openned': False, 'selected': False},\n",
       "    'text': 'eplusout.mdd (4.19 kB)',\n",
       "    'data': {'fullPath': '/eplusout.mdd',\n",
       "     'folder': False,\n",
       "     'lastModified': 1625569146000,\n",
       "     'size': 4190},\n",
       "    'type': 'mdd',\n",
       "    'id': None,\n",
       "    'a_attr': {'title': '/eplusout.mdd last modfied at 2021-07-06 10:59 UTC'},\n",
       "    'li_attr': {},\n",
       "    'children': []},\n",
       "   {'state': {'disabled': False, 'openned': False, 'selected': False},\n",
       "    'text': 'eplusout.mtd (37.72 kB)',\n",
       "    'data': {'fullPath': '/eplusout.mtd',\n",
       "     'folder': False,\n",
       "     'lastModified': 1625569146000,\n",
       "     'size': 37725},\n",
       "    'type': 'mtd',\n",
       "    'id': None,\n",
       "    'a_attr': {'title': '/eplusout.mtd last modfied at 2021-07-06 10:59 UTC'},\n",
       "    'li_attr': {},\n",
       "    'children': []},\n",
       "   {'state': {'disabled': False, 'openned': False, 'selected': False},\n",
       "    'text': 'eplusout.mtr (10.57 kB)',\n",
       "    'data': {'fullPath': '/eplusout.mtr',\n",
       "     'folder': False,\n",
       "     'lastModified': 1625569146000,\n",
       "     'size': 10573},\n",
       "    'type': 'mtr',\n",
       "    'id': None,\n",
       "    'a_attr': {'title': '/eplusout.mtr last modfied at 2021-07-06 10:59 UTC'},\n",
       "    'li_attr': {},\n",
       "    'children': []},\n",
       "   {'state': {'disabled': False, 'openned': False, 'selected': False},\n",
       "    'text': 'eplusout.rdd (31.45 kB)',\n",
       "    'data': {'fullPath': '/eplusout.rdd',\n",
       "     'folder': False,\n",
       "     'lastModified': 1625569146000,\n",
       "     'size': 31449},\n",
       "    'type': 'rdd',\n",
       "    'id': None,\n",
       "    'a_attr': {'title': '/eplusout.rdd last modfied at 2021-07-06 10:59 UTC'},\n",
       "    'li_attr': {},\n",
       "    'children': []},\n",
       "   {'state': {'disabled': False, 'openned': False, 'selected': False},\n",
       "    'text': 'eplusout.shd (10.52 kB)',\n",
       "    'data': {'fullPath': '/eplusout.shd',\n",
       "     'folder': False,\n",
       "     'lastModified': 1625569146000,\n",
       "     'size': 10523},\n",
       "    'type': 'shd',\n",
       "    'id': None,\n",
       "    'a_attr': {'title': '/eplusout.shd last modfied at 2021-07-06 10:59 UTC'},\n",
       "    'li_attr': {},\n",
       "    'children': []},\n",
       "   {'state': {'disabled': False, 'openned': False, 'selected': False},\n",
       "    'text': 'eplusout.wrl (19.87 kB)',\n",
       "    'data': {'fullPath': '/eplusout.wrl',\n",
       "     'folder': False,\n",
       "     'lastModified': 1625569146000,\n",
       "     'size': 19866},\n",
       "    'type': 'wrl',\n",
       "    'id': None,\n",
       "    'a_attr': {'title': '/eplusout.wrl last modfied at 2021-07-06 10:59 UTC'},\n",
       "    'li_attr': {},\n",
       "    'children': []},\n",
       "   {'state': {'disabled': False, 'openned': False, 'selected': False},\n",
       "    'text': 'eplusssz.csv (13.90 kB)',\n",
       "    'data': {'fullPath': '/eplusssz.csv',\n",
       "     'folder': False,\n",
       "     'lastModified': 1625569146000,\n",
       "     'size': 13895},\n",
       "    'type': 'csv',\n",
       "    'id': None,\n",
       "    'a_attr': {'title': '/eplusssz.csv last modfied at 2021-07-06 10:59 UTC'},\n",
       "    'li_attr': {},\n",
       "    'children': []},\n",
       "   {'state': {'disabled': False, 'openned': False, 'selected': False},\n",
       "    'text': 'eplustbl.htm (596.6 kB)',\n",
       "    'data': {'fullPath': '/eplustbl.htm',\n",
       "     'folder': False,\n",
       "     'lastModified': 1625569146000,\n",
       "     'size': 596643},\n",
       "    'type': 'htm',\n",
       "    'id': None,\n",
       "    'a_attr': {'title': '/eplustbl.htm last modfied at 2021-07-06 10:59 UTC'},\n",
       "    'li_attr': {},\n",
       "    'children': []},\n",
       "   {'state': {'disabled': False, 'openned': False, 'selected': False},\n",
       "    'text': 'epluszsz.csv (28.04 kB)',\n",
       "    'data': {'fullPath': '/epluszsz.csv',\n",
       "     'folder': False,\n",
       "     'lastModified': 1625569146000,\n",
       "     'size': 28041},\n",
       "    'type': 'csv',\n",
       "    'id': None,\n",
       "    'a_attr': {'title': '/epluszsz.csv last modfied at 2021-07-06 10:59 UTC'},\n",
       "    'li_attr': {},\n",
       "    'children': []},\n",
       "   {'state': {'disabled': False, 'openned': False, 'selected': False},\n",
       "    'text': 'in.epw (1.55 MB)',\n",
       "    'data': {'fullPath': '/in.epw',\n",
       "     'folder': False,\n",
       "     'lastModified': 1625569137000,\n",
       "     'size': 1547758},\n",
       "    'type': 'epw',\n",
       "    'id': None,\n",
       "    'a_attr': {'title': '/in.epw last modfied at 2021-07-06 10:58 UTC'},\n",
       "    'li_attr': {},\n",
       "    'children': []},\n",
       "   {'state': {'disabled': False, 'openned': False, 'selected': False},\n",
       "    'text': 'in.idf (160.5 kB)',\n",
       "    'data': {'fullPath': '/in.idf',\n",
       "     'folder': False,\n",
       "     'lastModified': 1625569146000,\n",
       "     'size': 160502},\n",
       "    'type': 'idf',\n",
       "    'id': None,\n",
       "    'a_attr': {'title': '/in.idf last modfied at 2021-07-06 10:59 UTC'},\n",
       "    'li_attr': {},\n",
       "    'children': []},\n",
       "   {'state': {'disabled': False, 'openned': False, 'selected': False},\n",
       "    'text': 'job.done! (0 B)',\n",
       "    'data': {'fullPath': '/job.done!',\n",
       "     'folder': False,\n",
       "     'lastModified': 1625569146000,\n",
       "     'size': 0},\n",
       "    'type': 'done!',\n",
       "    'id': None,\n",
       "    'a_attr': {'title': '/job.done! last modfied at 2021-07-06 10:59 UTC'},\n",
       "    'li_attr': {},\n",
       "    'children': []},\n",
       "   {'state': {'disabled': False, 'openned': False, 'selected': False},\n",
       "    'text': 'sqlite.err (0 B)',\n",
       "    'data': {'fullPath': '/sqlite.err',\n",
       "     'folder': False,\n",
       "     'lastModified': 1625569146000,\n",
       "     'size': 0},\n",
       "    'type': 'err',\n",
       "    'id': None,\n",
       "    'a_attr': {'title': '/sqlite.err last modfied at 2021-07-06 10:59 UTC'},\n",
       "    'li_attr': {},\n",
       "    'children': []},\n",
       "   {'state': {'disabled': False, 'openned': False, 'selected': False},\n",
       "    'text': 'time_stamps.txt (233 B)',\n",
       "    'data': {'fullPath': '/time_stamps.txt',\n",
       "     'folder': False,\n",
       "     'lastModified': 1625569146000,\n",
       "     'size': 233},\n",
       "    'type': 'txt',\n",
       "    'id': None,\n",
       "    'a_attr': {'title': '/time_stamps.txt last modfied at 2021-07-06 10:59 UTC'},\n",
       "    'li_attr': {},\n",
       "    'children': []}]}}"
      ]
     },
     "execution_count": 6,
     "metadata": {},
     "output_type": "execute_result"
    }
   ],
   "source": [
    "# GET job status with job_id\n",
    "r = requests.get(JessApi + 'job/dir/' + str(job_id), cookies=cookies)\n",
    "\n",
    "# Show the returned status\n",
    "r.json()"
   ]
  },
  {
   "cell_type": "markdown",
   "metadata": {},
   "source": [
    "## Retrieve a File <a class=\"anchor\" id=\"retrieve-bullet\"></a>\n",
    "\n",
    "You can retrieve any result file in the text form from the server like this:"
   ]
  },
  {
   "cell_type": "code",
   "execution_count": 7,
   "metadata": {},
   "outputs": [
    {
     "name": "stdout",
     "output_type": "stream",
     "text": [
      "Program Version,EnergyPlus, Version 9.3.0-baff08990c, YMD=2021.07.06 11:59,\n",
      "   ************* Beginning Zone Sizing Calculations\n",
      "   ** Warning ** Weather file location will be used rather than entered (IDF) Location object.\n",
      "   **   ~~~   ** ..Location object=CHICAGO_IL_USA TMY2-94846\n",
      "   **   ~~~   ** ..Weather File Location=LONDON/GATWICK - GBR IWEC Data WMO#=037760\n",
      "   **   ~~~   ** ..due to location differences, Latitude difference=[9.37] degrees, Longitude difference=[87.57] degrees.\n",
      "   **   ~~~   ** ..Time Zone difference=[6.0] hour(s), Elevation difference=[67.37] percent, [128.00] meters.\n",
      "   ************* Beginning System Sizing Calculations\n",
      "   ************* Beginning Plant Sizing Calculations\n",
      "   ************* Testing Individual Branch Integrity\n",
      "   ************* All Branches passed integrity testing\n",
      "   ************* Testing Individual Supply Air Path Integrity\n",
      "   ************* All Supply Air Paths passed integrity testing\n",
      "   ************* Testing Individual Return Air Path Integrity\n",
      "   ************* All Return Air Paths passed integrity testing\n",
      "   ************* No node connection errors were found.\n",
      "   ************* Beginning Simulation\n",
      "   ************* Simulation Error Summary *************\n",
      "   ************* EnergyPlus Warmup Error Summary. During Warmup: 0 Warning; 0 Severe Errors.\n",
      "   ************* EnergyPlus Sizing Error Summary. During Sizing: 1 Warning; 0 Severe Errors.\n",
      "   ************* EnergyPlus Completed Successfully-- 1 Warning; 0 Severe Errors; Elapsed Time=00hr 00min  6.17sec\n",
      "\n"
     ]
    }
   ],
   "source": [
    "# GET specific job output with job_id and file name\n",
    "r = requests.get(JessApi + 'job/file/' + str(job_id) + \"/eplusout.err\", cookies=cookies)\n",
    "\n",
    "# Show the returned status\n",
    "print(r.text)"
   ]
  },
  {
   "cell_type": "markdown",
   "metadata": {},
   "source": [
    "## Download All Files <a class=\"anchor\" id=\"download-bullet\"></a>\n",
    "\n",
    "Or download all files of the job as a zip package, and write it to the local storage."
   ]
  },
  {
   "cell_type": "code",
   "execution_count": 8,
   "metadata": {},
   "outputs": [
    {
     "name": "stdout",
     "output_type": "stream",
     "text": [
      "3131277 bytes written to download\\385099.zip\n"
     ]
    }
   ],
   "source": [
    "# Download all job output in as a zip file\n",
    "r = requests.get(JessApi + 'job/file/' + str(job_id), cookies=cookies)\n",
    "\n",
    "# Create the download/ folder to save the zip file\n",
    "dl_path = \"download\\\\\"\n",
    "if not os.path.exists(dl_path):\n",
    "    try:\n",
    "        os.mkdir(dl_path)\n",
    "    except OSError:\n",
    "        print (\"Creation of the directory %s failed\" % dl_path)\n",
    "    else:\n",
    "        print (\"Successfully created the directory %s \" % dl_path)\n",
    "\n",
    "# Save the contents of the downloaded file\n",
    "bytes = open(dl_path + str(job_id) + '.zip', 'wb').write(r.content)\n",
    "\n",
    "# Show the returned status\n",
    "print(str(bytes) + ' bytes written to ' + dl_path + str(job_id) + '.zip')"
   ]
  },
  {
   "cell_type": "markdown",
   "metadata": {},
   "source": [
    "## View Result Files Online <a class=\"anchor\" id=\"view-online-bullet\"></a>\n",
    "\n",
    "You can generate links the viewers of particular output files and view them online."
   ]
  },
  {
   "cell_type": "code",
   "execution_count": 40,
   "metadata": {},
   "outputs": [
    {
     "name": "stdout",
     "output_type": "stream",
     "text": [
      "DXF model of 385114: https://app.ensims.com/3d/?dxf=/385114/eplusout.dxf\n",
      "IDF model of 385114: https://app.ensims.com/idf/?ref=/385114/in.idf\n",
      "ESO output of 385114: https://app.ensims.com/eso/?ref=/385114/eplusout.eso\n",
      "Html output of 385114: https://app.ensims.com/jess_web/api/job/text/385114/eplustbl.htm\n"
     ]
    }
   ],
   "source": [
    "print (\"DXF model of \" + str(job_id) + \": https://app.ensims.com/3d/?dxf=/\" + str(job_id) + \"/eplusout.dxf\")\n",
    "print (\"IDF model of \" + str(job_id) + \": https://app.ensims.com/idf/?ref=/\" + str(job_id) + \"/in.idf\")\n",
    "print (\"ESO output of \" + str(job_id) + \": https://app.ensims.com/eso/?ref=/\" + str(job_id) + \"/eplusout.eso\")\n",
    "print (\"Html output of \" + str(job_id) + \": https://app.ensims.com/jess_web/api/job/text/\" + str(job_id) + \"/eplustbl.htm\")"
   ]
  },
  {
   "cell_type": "markdown",
   "metadata": {},
   "source": [
    "## End of Demo\n",
    "\n",
    "These are the basic operations for running simulations on JESS and retrieving the results. Check out other examples for more use scenarios and functions.\n"
   ]
  }
 ],
 "metadata": {
  "kernelspec": {
   "display_name": "Python 3",
   "language": "python",
   "name": "python3"
  },
  "language_info": {
   "codemirror_mode": {
    "name": "ipython",
    "version": 3
   },
   "file_extension": ".py",
   "mimetype": "text/x-python",
   "name": "python",
   "nbconvert_exporter": "python",
   "pygments_lexer": "ipython3",
   "version": "3.8.0"
  }
 },
 "nbformat": 4,
 "nbformat_minor": 4
}
